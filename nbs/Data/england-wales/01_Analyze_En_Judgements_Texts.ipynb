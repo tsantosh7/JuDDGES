{
 "cells": [
  {
   "cell_type": "markdown",
   "id": "9e365555",
   "metadata": {},
   "source": [
    "# Analyze Text of England and Wales Judgements\n"
   ]
  },
  {
   "cell_type": "code",
   "execution_count": 1,
   "id": "6b666da3-f393-4d88-8036-e818937d2305",
   "metadata": {},
   "outputs": [],
   "source": [
    "import os\n",
    "import json\n",
    "import string\n",
    "from datasets import Dataset, DatasetDict, load_dataset, load_from_disk\n",
    "import pandas as pd\n",
    "import seaborn as sns\n",
    "import matplotlib.pyplot as plt"
   ]
  },
  {
   "cell_type": "code",
   "execution_count": 2,
   "id": "27d73a94-5cd3-4820-938c-a827b8c34bd0",
   "metadata": {},
   "outputs": [],
   "source": [
    "path_ = '/home/stirunag/work/github/ML4-legal-documents/judgements_xml/'\n",
    "jsonl_file = path_+'england_wales_data_refined_7.jsonl'\n",
    "dataset_path = path_+'en_judgements_dataset'"
   ]
  },
  {
   "cell_type": "code",
   "execution_count": 3,
   "id": "c2851986-f950-4a21-b3e1-7ce58f6fa4a4",
   "metadata": {},
   "outputs": [
    {
     "data": {
      "application/vnd.jupyter.widget-view+json": {
       "model_id": "31f49ffdf13a4cffaa5439f4e402daf3",
       "version_major": 2,
       "version_minor": 0
      },
      "text/plain": [
       "Saving the dataset (0/1 shards):   0%|          | 0/6154 [00:00<?, ? examples/s]"
      ]
     },
     "metadata": {},
     "output_type": "display_data"
    }
   ],
   "source": [
    "# data = []\n",
    "# with open(jsonl_file, 'r') as file:\n",
    "#     for line in file:\n",
    "#         data.append(json.loads(line))\n",
    "\n",
    "# dataset = Dataset.from_json(jsonl_file)\n",
    "# dataset_dict = DatasetDict({\"train\": dataset})\n",
    "\n",
    "# # Save the dataset to disk\n",
    "# dataset.save_to_disk(dataset_path)\n"
   ]
  },
  {
   "cell_type": "code",
   "execution_count": 6,
   "id": "7f1633ce-087e-441e-a039-773c83c1bb38",
   "metadata": {},
   "outputs": [
    {
     "data": {
      "text/html": [
       "<div>\n",
       "<style scoped>\n",
       "    .dataframe tbody tr th:only-of-type {\n",
       "        vertical-align: middle;\n",
       "    }\n",
       "\n",
       "    .dataframe tbody tr th {\n",
       "        vertical-align: top;\n",
       "    }\n",
       "\n",
       "    .dataframe thead th {\n",
       "        text-align: right;\n",
       "    }\n",
       "</style>\n",
       "<table border=\"1\" class=\"dataframe\">\n",
       "  <thead>\n",
       "    <tr style=\"text-align: right;\">\n",
       "      <th></th>\n",
       "      <th>_id</th>\n",
       "      <th>citation</th>\n",
       "      <th>signature</th>\n",
       "      <th>date</th>\n",
       "      <th>publicationDate</th>\n",
       "      <th>type</th>\n",
       "      <th>excerpt</th>\n",
       "      <th>content</th>\n",
       "      <th>judges</th>\n",
       "      <th>caseNumbers</th>\n",
       "      <th>citation_references</th>\n",
       "      <th>legislation</th>\n",
       "      <th>file_name</th>\n",
       "      <th>appeal_type</th>\n",
       "      <th>appeal_outcome</th>\n",
       "      <th>xml_uri</th>\n",
       "      <th>uri</th>\n",
       "    </tr>\n",
       "  </thead>\n",
       "  <tbody>\n",
       "    <tr>\n",
       "      <th>0</th>\n",
       "      <td>ab0224364e4cf6562c82f8861d5268d4fa22b2ec45e0f7...</td>\n",
       "      <td>[2008] EWCA Crim 2952</td>\n",
       "      <td>EWCA_Crim_2952</td>\n",
       "      <td>NaT</td>\n",
       "      <td>2008-11-26</td>\n",
       "      <td>crown_court</td>\n",
       "      <td>No. 2008/03296/A9 2008/03350/A9 &amp; 2008/03349/A...</td>\n",
       "      <td>No.\\n2008/03296/A9\\n2008/03350/A9\\n&amp;\\n2008/033...</td>\n",
       "      <td>[LORD  JUSTICE  TOULSON, MR  JUSTICE  MADDISON]</td>\n",
       "      <td>[2008/03296/A9, 2008/03349/A9, 2008/03350/A9]</td>\n",
       "      <td>None</td>\n",
       "      <td>None</td>\n",
       "      <td>2008_11_26-1736.xml</td>\n",
       "      <td>None</td>\n",
       "      <td>None</td>\n",
       "      <td>https://caselaw.nationalarchives.gov.uk/ewca/c...</td>\n",
       "      <td>https://caselaw.nationalarchives.gov.uk/id/ewc...</td>\n",
       "    </tr>\n",
       "    <tr>\n",
       "      <th>1</th>\n",
       "      <td>d4630d93258ea51ecff4bc4015443b4eecf8d9b2e5b7c5...</td>\n",
       "      <td>[2006] EWCA Crim 3187</td>\n",
       "      <td>EWCA_Crim_3187</td>\n",
       "      <td>NaT</td>\n",
       "      <td>2006-12-19</td>\n",
       "      <td>supreme_court</td>\n",
       "      <td>Neutral Citation Number: [2006] EWCA Crim 3187...</td>\n",
       "      <td>Neutral Citation Number:\\n[2006] EWCA Crim 318...</td>\n",
       "      <td>[LORD JUSTICE PILL, MR JUSTICE HODGE]</td>\n",
       "      <td>[2003/06451/C4]</td>\n",
       "      <td>None</td>\n",
       "      <td>None</td>\n",
       "      <td>2006_12_19-996.xml</td>\n",
       "      <td>conviction</td>\n",
       "      <td>None</td>\n",
       "      <td>https://caselaw.nationalarchives.gov.uk/ewca/c...</td>\n",
       "      <td>https://caselaw.nationalarchives.gov.uk/id/ewc...</td>\n",
       "    </tr>\n",
       "    <tr>\n",
       "      <th>2</th>\n",
       "      <td>37183a714b626cfe98081ac0250c804f992f340281f6d2...</td>\n",
       "      <td>[2012] EWCA Crim 1840</td>\n",
       "      <td>EWCA_Crim_1840</td>\n",
       "      <td>NaT</td>\n",
       "      <td>2012-08-08</td>\n",
       "      <td>crown_court</td>\n",
       "      <td>Neutral Citation Number: [2012] EWCA Crim 1840...</td>\n",
       "      <td>Neutral Citation Number:\\n[2012] EWCA Crim 184...</td>\n",
       "      <td>[LORD JUSTICE DAVIS, MR JUSTICE BURTON, MR JUS...</td>\n",
       "      <td>[201106042D2]</td>\n",
       "      <td>[[2008] UKHL 28, [2008] UKHL 29]</td>\n",
       "      <td>[that Act, Section 95(1), s.95(1), s.97, s.76(...</td>\n",
       "      <td>2012_08_08-3035.xml</td>\n",
       "      <td>None</td>\n",
       "      <td>None</td>\n",
       "      <td>https://caselaw.nationalarchives.gov.uk/ewca/c...</td>\n",
       "      <td>https://caselaw.nationalarchives.gov.uk/id/ewc...</td>\n",
       "    </tr>\n",
       "    <tr>\n",
       "      <th>3</th>\n",
       "      <td>b41933b19505ab8767ce30faf8db9524f737ec5ac2c17e...</td>\n",
       "      <td>[2014] EWCA Crim 1730</td>\n",
       "      <td>EWCA_Crim_1730</td>\n",
       "      <td>NaT</td>\n",
       "      <td>2014-07-08</td>\n",
       "      <td>crown_court</td>\n",
       "      <td>Neutral Citation Number: [2014] EWCA Crim 1730...</td>\n",
       "      <td>Neutral Citation Number:\\n[2014] EWCA Crim 173...</td>\n",
       "      <td>[LORD JUSTICE TREACY, MR JUSTICE GRIFFITH WILL...</td>\n",
       "      <td>[201300932 C3]</td>\n",
       "      <td>None</td>\n",
       "      <td>None</td>\n",
       "      <td>2014_07_08-3443.xml</td>\n",
       "      <td>None</td>\n",
       "      <td>None</td>\n",
       "      <td>https://caselaw.nationalarchives.gov.uk/ewca/c...</td>\n",
       "      <td>https://caselaw.nationalarchives.gov.uk/id/ewc...</td>\n",
       "    </tr>\n",
       "    <tr>\n",
       "      <th>4</th>\n",
       "      <td>418382a2a6c0c32d3d2bd4cb7b39e1ba259dc6bf56a78e...</td>\n",
       "      <td>[2018] EWCA Crim 2189</td>\n",
       "      <td>EWCA_Crim_2189</td>\n",
       "      <td>NaT</td>\n",
       "      <td>2018-07-26</td>\n",
       "      <td>crown_court</td>\n",
       "      <td>No: 201802356 A2 Neutral Citation Number: [201...</td>\n",
       "      <td>No:\\n201802356 A2\\nNeutral Citation Number:\\n[...</td>\n",
       "      <td>[LORD JUSTICE SIMON, MRS JUSTICE CARR DBE]</td>\n",
       "      <td>[201802356 A2]</td>\n",
       "      <td>None</td>\n",
       "      <td>None</td>\n",
       "      <td>2018_07_26-4369.xml</td>\n",
       "      <td>None</td>\n",
       "      <td>allowed</td>\n",
       "      <td>https://caselaw.nationalarchives.gov.uk/ewca/c...</td>\n",
       "      <td>https://caselaw.nationalarchives.gov.uk/id/ewc...</td>\n",
       "    </tr>\n",
       "  </tbody>\n",
       "</table>\n",
       "</div>"
      ],
      "text/plain": [
       "                                                 _id               citation  \\\n",
       "0  ab0224364e4cf6562c82f8861d5268d4fa22b2ec45e0f7...  [2008] EWCA Crim 2952   \n",
       "1  d4630d93258ea51ecff4bc4015443b4eecf8d9b2e5b7c5...  [2006] EWCA Crim 3187   \n",
       "2  37183a714b626cfe98081ac0250c804f992f340281f6d2...  [2012] EWCA Crim 1840   \n",
       "3  b41933b19505ab8767ce30faf8db9524f737ec5ac2c17e...  [2014] EWCA Crim 1730   \n",
       "4  418382a2a6c0c32d3d2bd4cb7b39e1ba259dc6bf56a78e...  [2018] EWCA Crim 2189   \n",
       "\n",
       "        signature date publicationDate           type  \\\n",
       "0  EWCA_Crim_2952  NaT      2008-11-26    crown_court   \n",
       "1  EWCA_Crim_3187  NaT      2006-12-19  supreme_court   \n",
       "2  EWCA_Crim_1840  NaT      2012-08-08    crown_court   \n",
       "3  EWCA_Crim_1730  NaT      2014-07-08    crown_court   \n",
       "4  EWCA_Crim_2189  NaT      2018-07-26    crown_court   \n",
       "\n",
       "                                             excerpt  \\\n",
       "0  No. 2008/03296/A9 2008/03350/A9 & 2008/03349/A...   \n",
       "1  Neutral Citation Number: [2006] EWCA Crim 3187...   \n",
       "2  Neutral Citation Number: [2012] EWCA Crim 1840...   \n",
       "3  Neutral Citation Number: [2014] EWCA Crim 1730...   \n",
       "4  No: 201802356 A2 Neutral Citation Number: [201...   \n",
       "\n",
       "                                             content  \\\n",
       "0  No.\\n2008/03296/A9\\n2008/03350/A9\\n&\\n2008/033...   \n",
       "1  Neutral Citation Number:\\n[2006] EWCA Crim 318...   \n",
       "2  Neutral Citation Number:\\n[2012] EWCA Crim 184...   \n",
       "3  Neutral Citation Number:\\n[2014] EWCA Crim 173...   \n",
       "4  No:\\n201802356 A2\\nNeutral Citation Number:\\n[...   \n",
       "\n",
       "                                              judges  \\\n",
       "0    [LORD  JUSTICE  TOULSON, MR  JUSTICE  MADDISON]   \n",
       "1              [LORD JUSTICE PILL, MR JUSTICE HODGE]   \n",
       "2  [LORD JUSTICE DAVIS, MR JUSTICE BURTON, MR JUS...   \n",
       "3  [LORD JUSTICE TREACY, MR JUSTICE GRIFFITH WILL...   \n",
       "4         [LORD JUSTICE SIMON, MRS JUSTICE CARR DBE]   \n",
       "\n",
       "                                     caseNumbers  \\\n",
       "0  [2008/03296/A9, 2008/03349/A9, 2008/03350/A9]   \n",
       "1                                [2003/06451/C4]   \n",
       "2                                  [201106042D2]   \n",
       "3                                 [201300932 C3]   \n",
       "4                                 [201802356 A2]   \n",
       "\n",
       "                citation_references  \\\n",
       "0                              None   \n",
       "1                              None   \n",
       "2  [[2008] UKHL 28, [2008] UKHL 29]   \n",
       "3                              None   \n",
       "4                              None   \n",
       "\n",
       "                                         legislation            file_name  \\\n",
       "0                                               None  2008_11_26-1736.xml   \n",
       "1                                               None   2006_12_19-996.xml   \n",
       "2  [that Act, Section 95(1), s.95(1), s.97, s.76(...  2012_08_08-3035.xml   \n",
       "3                                               None  2014_07_08-3443.xml   \n",
       "4                                               None  2018_07_26-4369.xml   \n",
       "\n",
       "  appeal_type appeal_outcome  \\\n",
       "0        None           None   \n",
       "1  conviction           None   \n",
       "2        None           None   \n",
       "3        None           None   \n",
       "4        None        allowed   \n",
       "\n",
       "                                             xml_uri  \\\n",
       "0  https://caselaw.nationalarchives.gov.uk/ewca/c...   \n",
       "1  https://caselaw.nationalarchives.gov.uk/ewca/c...   \n",
       "2  https://caselaw.nationalarchives.gov.uk/ewca/c...   \n",
       "3  https://caselaw.nationalarchives.gov.uk/ewca/c...   \n",
       "4  https://caselaw.nationalarchives.gov.uk/ewca/c...   \n",
       "\n",
       "                                                 uri  \n",
       "0  https://caselaw.nationalarchives.gov.uk/id/ewc...  \n",
       "1  https://caselaw.nationalarchives.gov.uk/id/ewc...  \n",
       "2  https://caselaw.nationalarchives.gov.uk/id/ewc...  \n",
       "3  https://caselaw.nationalarchives.gov.uk/id/ewc...  \n",
       "4  https://caselaw.nationalarchives.gov.uk/id/ewc...  "
      ]
     },
     "execution_count": 6,
     "metadata": {},
     "output_type": "execute_result"
    }
   ],
   "source": [
    "# deduplicate the dataset\n",
    "\n",
    "dataset_pd = pd.read_json(jsonl_file, lines=True)\n",
    "dataset_pd.head()\n"
   ]
  },
  {
   "cell_type": "code",
   "execution_count": 8,
   "id": "e01c9607-8e08-41a7-9324-3b3b7075bd22",
   "metadata": {},
   "outputs": [
    {
     "name": "stdout",
     "output_type": "stream",
     "text": [
      "_id                       0\n",
      "citation                  0\n",
      "signature                 0\n",
      "date                   6154\n",
      "publicationDate           0\n",
      "type                      0\n",
      "excerpt                  96\n",
      "content                   0\n",
      "judges                   39\n",
      "caseNumbers            1220\n",
      "citation_references    4762\n",
      "legislation            4328\n",
      "file_name                 0\n",
      "appeal_type            5320\n",
      "appeal_outcome         4786\n",
      "xml_uri                   0\n",
      "uri                       0\n",
      "dtype: int64\n"
     ]
    }
   ],
   "source": [
    "null_values = dataset_pd.isnull().sum()\n",
    "print(null_values)"
   ]
  },
  {
   "cell_type": "code",
   "execution_count": 28,
   "id": "fe164ab3-1732-4b3c-a2f0-77c7fb9b9fd0",
   "metadata": {},
   "outputs": [
    {
     "data": {
      "text/html": [
       "<div>\n",
       "<style scoped>\n",
       "    .dataframe tbody tr th:only-of-type {\n",
       "        vertical-align: middle;\n",
       "    }\n",
       "\n",
       "    .dataframe tbody tr th {\n",
       "        vertical-align: top;\n",
       "    }\n",
       "\n",
       "    .dataframe thead th {\n",
       "        text-align: right;\n",
       "    }\n",
       "</style>\n",
       "<table border=\"1\" class=\"dataframe\">\n",
       "  <thead>\n",
       "    <tr style=\"text-align: right;\">\n",
       "      <th></th>\n",
       "      <th>_id</th>\n",
       "      <th>citation</th>\n",
       "      <th>signature</th>\n",
       "      <th>date</th>\n",
       "      <th>type</th>\n",
       "      <th>excerpt</th>\n",
       "      <th>content</th>\n",
       "      <th>judges</th>\n",
       "      <th>file_name</th>\n",
       "      <th>xml_uri</th>\n",
       "      <th>uri</th>\n",
       "    </tr>\n",
       "  </thead>\n",
       "  <tbody>\n",
       "    <tr>\n",
       "      <th>0</th>\n",
       "      <td>ab0224364e4cf6562c82f8861d5268d4fa22b2ec45e0f7...</td>\n",
       "      <td>[2008] EWCA Crim 2952</td>\n",
       "      <td>EWCA_Crim_2952</td>\n",
       "      <td>2008-11-26</td>\n",
       "      <td>crown_court</td>\n",
       "      <td>No. 2008/03296/A9 2008/03350/A9 &amp; 2008/03349/A...</td>\n",
       "      <td>No.\\n2008/03296/A9\\n2008/03350/A9\\n&amp;\\n2008/033...</td>\n",
       "      <td>[LORD  JUSTICE  TOULSON, MR  JUSTICE  MADDISON]</td>\n",
       "      <td>2008_11_26-1736.xml</td>\n",
       "      <td>https://caselaw.nationalarchives.gov.uk/ewca/c...</td>\n",
       "      <td>https://caselaw.nationalarchives.gov.uk/id/ewc...</td>\n",
       "    </tr>\n",
       "    <tr>\n",
       "      <th>1</th>\n",
       "      <td>d4630d93258ea51ecff4bc4015443b4eecf8d9b2e5b7c5...</td>\n",
       "      <td>[2006] EWCA Crim 3187</td>\n",
       "      <td>EWCA_Crim_3187</td>\n",
       "      <td>2006-12-19</td>\n",
       "      <td>supreme_court</td>\n",
       "      <td>Neutral Citation Number: [2006] EWCA Crim 3187...</td>\n",
       "      <td>Neutral Citation Number:\\n[2006] EWCA Crim 318...</td>\n",
       "      <td>[LORD JUSTICE PILL, MR JUSTICE HODGE]</td>\n",
       "      <td>2006_12_19-996.xml</td>\n",
       "      <td>https://caselaw.nationalarchives.gov.uk/ewca/c...</td>\n",
       "      <td>https://caselaw.nationalarchives.gov.uk/id/ewc...</td>\n",
       "    </tr>\n",
       "    <tr>\n",
       "      <th>2</th>\n",
       "      <td>37183a714b626cfe98081ac0250c804f992f340281f6d2...</td>\n",
       "      <td>[2012] EWCA Crim 1840</td>\n",
       "      <td>EWCA_Crim_1840</td>\n",
       "      <td>2012-08-08</td>\n",
       "      <td>crown_court</td>\n",
       "      <td>Neutral Citation Number: [2012] EWCA Crim 1840...</td>\n",
       "      <td>Neutral Citation Number:\\n[2012] EWCA Crim 184...</td>\n",
       "      <td>[LORD JUSTICE DAVIS, MR JUSTICE BURTON, MR JUS...</td>\n",
       "      <td>2012_08_08-3035.xml</td>\n",
       "      <td>https://caselaw.nationalarchives.gov.uk/ewca/c...</td>\n",
       "      <td>https://caselaw.nationalarchives.gov.uk/id/ewc...</td>\n",
       "    </tr>\n",
       "    <tr>\n",
       "      <th>3</th>\n",
       "      <td>b41933b19505ab8767ce30faf8db9524f737ec5ac2c17e...</td>\n",
       "      <td>[2014] EWCA Crim 1730</td>\n",
       "      <td>EWCA_Crim_1730</td>\n",
       "      <td>2014-07-08</td>\n",
       "      <td>crown_court</td>\n",
       "      <td>Neutral Citation Number: [2014] EWCA Crim 1730...</td>\n",
       "      <td>Neutral Citation Number:\\n[2014] EWCA Crim 173...</td>\n",
       "      <td>[LORD JUSTICE TREACY, MR JUSTICE GRIFFITH WILL...</td>\n",
       "      <td>2014_07_08-3443.xml</td>\n",
       "      <td>https://caselaw.nationalarchives.gov.uk/ewca/c...</td>\n",
       "      <td>https://caselaw.nationalarchives.gov.uk/id/ewc...</td>\n",
       "    </tr>\n",
       "    <tr>\n",
       "      <th>4</th>\n",
       "      <td>418382a2a6c0c32d3d2bd4cb7b39e1ba259dc6bf56a78e...</td>\n",
       "      <td>[2018] EWCA Crim 2189</td>\n",
       "      <td>EWCA_Crim_2189</td>\n",
       "      <td>2018-07-26</td>\n",
       "      <td>crown_court</td>\n",
       "      <td>No: 201802356 A2 Neutral Citation Number: [201...</td>\n",
       "      <td>No:\\n201802356 A2\\nNeutral Citation Number:\\n[...</td>\n",
       "      <td>[LORD JUSTICE SIMON, MRS JUSTICE CARR DBE]</td>\n",
       "      <td>2018_07_26-4369.xml</td>\n",
       "      <td>https://caselaw.nationalarchives.gov.uk/ewca/c...</td>\n",
       "      <td>https://caselaw.nationalarchives.gov.uk/id/ewc...</td>\n",
       "    </tr>\n",
       "    <tr>\n",
       "      <th>...</th>\n",
       "      <td>...</td>\n",
       "      <td>...</td>\n",
       "      <td>...</td>\n",
       "      <td>...</td>\n",
       "      <td>...</td>\n",
       "      <td>...</td>\n",
       "      <td>...</td>\n",
       "      <td>...</td>\n",
       "      <td>...</td>\n",
       "      <td>...</td>\n",
       "      <td>...</td>\n",
       "    </tr>\n",
       "    <tr>\n",
       "      <th>6149</th>\n",
       "      <td>13032b4b7419ea7c4164d1966f32bc0dff781ea559a1c5...</td>\n",
       "      <td>[2018] EWCA Crim 2743</td>\n",
       "      <td>EWCA_Crim_2743</td>\n",
       "      <td>2018-12-10</td>\n",
       "      <td>crown_court</td>\n",
       "      <td>Neutral Citation Number: [2018] EWCA Crim 2743...</td>\n",
       "      <td>Neutral Citation Number:\\n[2018] EWCA Crim 274...</td>\n",
       "      <td>[LADY JUSTICE MACUR, MR JUSTICE JULIAN KNOWLES...</td>\n",
       "      <td>2018_12_10-4457.xml</td>\n",
       "      <td>https://caselaw.nationalarchives.gov.uk/ewca/c...</td>\n",
       "      <td>https://caselaw.nationalarchives.gov.uk/id/ewc...</td>\n",
       "    </tr>\n",
       "    <tr>\n",
       "      <th>6150</th>\n",
       "      <td>902f5071f90c0edce10f75a23f1011d344c2b678bd589e...</td>\n",
       "      <td>[2004] EWCA Crim 7</td>\n",
       "      <td>EWCA_Crim_7</td>\n",
       "      <td>2004-01-21</td>\n",
       "      <td>supreme_court</td>\n",
       "      <td>Case No: 2002/04091/D1 Neutral Citation Number...</td>\n",
       "      <td>Case No:\\n2002/04091/D1\\nNeutral Citation Numb...</td>\n",
       "      <td>[LORD JUSTICE RIX, MR JUSTICE McCOMBE]</td>\n",
       "      <td>2004_01_21-173.xml</td>\n",
       "      <td>https://caselaw.nationalarchives.gov.uk/ewca/c...</td>\n",
       "      <td>https://caselaw.nationalarchives.gov.uk/id/ewc...</td>\n",
       "    </tr>\n",
       "    <tr>\n",
       "      <th>6151</th>\n",
       "      <td>616a841e06e7cd2ccc3821e65bcc24bd5d4cd70d4bcb6a...</td>\n",
       "      <td>[2010] EWCA Crim 2144</td>\n",
       "      <td>EWCA_Crim_2144</td>\n",
       "      <td>2010-09-02</td>\n",
       "      <td>crown_court</td>\n",
       "      <td>Neutral Citation Number: [2010] EWCA Crim 2144...</td>\n",
       "      <td>Neutral Citation Number:\\n[2010] EWCA Crim 214...</td>\n",
       "      <td>[LORD JUSTICE ELIAS, MR JUSTICE SIMON]</td>\n",
       "      <td>2010_09_02-2495.xml</td>\n",
       "      <td>https://caselaw.nationalarchives.gov.uk/ewca/c...</td>\n",
       "      <td>https://caselaw.nationalarchives.gov.uk/id/ewc...</td>\n",
       "    </tr>\n",
       "    <tr>\n",
       "      <th>6152</th>\n",
       "      <td>a04c535e3f6c151606dc132c1e28a4a339bfe07ef56990...</td>\n",
       "      <td>[2005] EWCA Crim 859</td>\n",
       "      <td>EWCA_Crim_859</td>\n",
       "      <td>2005-04-06</td>\n",
       "      <td>crown_court</td>\n",
       "      <td>Case No: 200305991 D2 Neutral Citation Number:...</td>\n",
       "      <td>Case No:\\n200305991 D2\\nNeutral Citation Numbe...</td>\n",
       "      <td>[LORD JUSTICE ROSE, MR JUSTICE BODEY, MR JUSTI...</td>\n",
       "      <td>2005_04_06-481.xml</td>\n",
       "      <td>https://caselaw.nationalarchives.gov.uk/ewca/c...</td>\n",
       "      <td>https://caselaw.nationalarchives.gov.uk/id/ewc...</td>\n",
       "    </tr>\n",
       "    <tr>\n",
       "      <th>6153</th>\n",
       "      <td>32105d1ef88d83b54194d39c226042d7778c1742a89a8a...</td>\n",
       "      <td>[2018] EWCA Crim 1397</td>\n",
       "      <td>EWCA_Crim_1397</td>\n",
       "      <td>2018-06-08</td>\n",
       "      <td>crown_court</td>\n",
       "      <td>2017/05382/B1 Neutral Citation Number: [2018] ...</td>\n",
       "      <td>2017/05382/B1\\nNeutral Citation Number:\\n[2018...</td>\n",
       "      <td>[LORD JUSTICE HOLROYDE]</td>\n",
       "      <td>2018_06_08-4322.xml</td>\n",
       "      <td>https://caselaw.nationalarchives.gov.uk/ewca/c...</td>\n",
       "      <td>https://caselaw.nationalarchives.gov.uk/id/ewc...</td>\n",
       "    </tr>\n",
       "  </tbody>\n",
       "</table>\n",
       "<p>6050 rows × 11 columns</p>\n",
       "</div>"
      ],
      "text/plain": [
       "                                                    _id  \\\n",
       "0     ab0224364e4cf6562c82f8861d5268d4fa22b2ec45e0f7...   \n",
       "1     d4630d93258ea51ecff4bc4015443b4eecf8d9b2e5b7c5...   \n",
       "2     37183a714b626cfe98081ac0250c804f992f340281f6d2...   \n",
       "3     b41933b19505ab8767ce30faf8db9524f737ec5ac2c17e...   \n",
       "4     418382a2a6c0c32d3d2bd4cb7b39e1ba259dc6bf56a78e...   \n",
       "...                                                 ...   \n",
       "6149  13032b4b7419ea7c4164d1966f32bc0dff781ea559a1c5...   \n",
       "6150  902f5071f90c0edce10f75a23f1011d344c2b678bd589e...   \n",
       "6151  616a841e06e7cd2ccc3821e65bcc24bd5d4cd70d4bcb6a...   \n",
       "6152  a04c535e3f6c151606dc132c1e28a4a339bfe07ef56990...   \n",
       "6153  32105d1ef88d83b54194d39c226042d7778c1742a89a8a...   \n",
       "\n",
       "                   citation       signature        date           type  \\\n",
       "0     [2008] EWCA Crim 2952  EWCA_Crim_2952  2008-11-26    crown_court   \n",
       "1     [2006] EWCA Crim 3187  EWCA_Crim_3187  2006-12-19  supreme_court   \n",
       "2     [2012] EWCA Crim 1840  EWCA_Crim_1840  2012-08-08    crown_court   \n",
       "3     [2014] EWCA Crim 1730  EWCA_Crim_1730  2014-07-08    crown_court   \n",
       "4     [2018] EWCA Crim 2189  EWCA_Crim_2189  2018-07-26    crown_court   \n",
       "...                     ...             ...         ...            ...   \n",
       "6149  [2018] EWCA Crim 2743  EWCA_Crim_2743  2018-12-10    crown_court   \n",
       "6150     [2004] EWCA Crim 7     EWCA_Crim_7  2004-01-21  supreme_court   \n",
       "6151  [2010] EWCA Crim 2144  EWCA_Crim_2144  2010-09-02    crown_court   \n",
       "6152   [2005] EWCA Crim 859   EWCA_Crim_859  2005-04-06    crown_court   \n",
       "6153  [2018] EWCA Crim 1397  EWCA_Crim_1397  2018-06-08    crown_court   \n",
       "\n",
       "                                                excerpt  \\\n",
       "0     No. 2008/03296/A9 2008/03350/A9 & 2008/03349/A...   \n",
       "1     Neutral Citation Number: [2006] EWCA Crim 3187...   \n",
       "2     Neutral Citation Number: [2012] EWCA Crim 1840...   \n",
       "3     Neutral Citation Number: [2014] EWCA Crim 1730...   \n",
       "4     No: 201802356 A2 Neutral Citation Number: [201...   \n",
       "...                                                 ...   \n",
       "6149  Neutral Citation Number: [2018] EWCA Crim 2743...   \n",
       "6150  Case No: 2002/04091/D1 Neutral Citation Number...   \n",
       "6151  Neutral Citation Number: [2010] EWCA Crim 2144...   \n",
       "6152  Case No: 200305991 D2 Neutral Citation Number:...   \n",
       "6153  2017/05382/B1 Neutral Citation Number: [2018] ...   \n",
       "\n",
       "                                                content  \\\n",
       "0     No.\\n2008/03296/A9\\n2008/03350/A9\\n&\\n2008/033...   \n",
       "1     Neutral Citation Number:\\n[2006] EWCA Crim 318...   \n",
       "2     Neutral Citation Number:\\n[2012] EWCA Crim 184...   \n",
       "3     Neutral Citation Number:\\n[2014] EWCA Crim 173...   \n",
       "4     No:\\n201802356 A2\\nNeutral Citation Number:\\n[...   \n",
       "...                                                 ...   \n",
       "6149  Neutral Citation Number:\\n[2018] EWCA Crim 274...   \n",
       "6150  Case No:\\n2002/04091/D1\\nNeutral Citation Numb...   \n",
       "6151  Neutral Citation Number:\\n[2010] EWCA Crim 214...   \n",
       "6152  Case No:\\n200305991 D2\\nNeutral Citation Numbe...   \n",
       "6153  2017/05382/B1\\nNeutral Citation Number:\\n[2018...   \n",
       "\n",
       "                                                 judges            file_name  \\\n",
       "0       [LORD  JUSTICE  TOULSON, MR  JUSTICE  MADDISON]  2008_11_26-1736.xml   \n",
       "1                 [LORD JUSTICE PILL, MR JUSTICE HODGE]   2006_12_19-996.xml   \n",
       "2     [LORD JUSTICE DAVIS, MR JUSTICE BURTON, MR JUS...  2012_08_08-3035.xml   \n",
       "3     [LORD JUSTICE TREACY, MR JUSTICE GRIFFITH WILL...  2014_07_08-3443.xml   \n",
       "4            [LORD JUSTICE SIMON, MRS JUSTICE CARR DBE]  2018_07_26-4369.xml   \n",
       "...                                                 ...                  ...   \n",
       "6149  [LADY JUSTICE MACUR, MR JUSTICE JULIAN KNOWLES...  2018_12_10-4457.xml   \n",
       "6150             [LORD JUSTICE RIX, MR JUSTICE McCOMBE]   2004_01_21-173.xml   \n",
       "6151             [LORD JUSTICE ELIAS, MR JUSTICE SIMON]  2010_09_02-2495.xml   \n",
       "6152  [LORD JUSTICE ROSE, MR JUSTICE BODEY, MR JUSTI...   2005_04_06-481.xml   \n",
       "6153                            [LORD JUSTICE HOLROYDE]  2018_06_08-4322.xml   \n",
       "\n",
       "                                                xml_uri  \\\n",
       "0     https://caselaw.nationalarchives.gov.uk/ewca/c...   \n",
       "1     https://caselaw.nationalarchives.gov.uk/ewca/c...   \n",
       "2     https://caselaw.nationalarchives.gov.uk/ewca/c...   \n",
       "3     https://caselaw.nationalarchives.gov.uk/ewca/c...   \n",
       "4     https://caselaw.nationalarchives.gov.uk/ewca/c...   \n",
       "...                                                 ...   \n",
       "6149  https://caselaw.nationalarchives.gov.uk/ewca/c...   \n",
       "6150  https://caselaw.nationalarchives.gov.uk/ewca/c...   \n",
       "6151  https://caselaw.nationalarchives.gov.uk/ewca/c...   \n",
       "6152  https://caselaw.nationalarchives.gov.uk/ewca/c...   \n",
       "6153  https://caselaw.nationalarchives.gov.uk/ewca/c...   \n",
       "\n",
       "                                                    uri  \n",
       "0     https://caselaw.nationalarchives.gov.uk/id/ewc...  \n",
       "1     https://caselaw.nationalarchives.gov.uk/id/ewc...  \n",
       "2     https://caselaw.nationalarchives.gov.uk/id/ewc...  \n",
       "3     https://caselaw.nationalarchives.gov.uk/id/ewc...  \n",
       "4     https://caselaw.nationalarchives.gov.uk/id/ewc...  \n",
       "...                                                 ...  \n",
       "6149  https://caselaw.nationalarchives.gov.uk/id/ewc...  \n",
       "6150  https://caselaw.nationalarchives.gov.uk/id/ewc...  \n",
       "6151  https://caselaw.nationalarchives.gov.uk/id/ewc...  \n",
       "6152  https://caselaw.nationalarchives.gov.uk/id/ewc...  \n",
       "6153  https://caselaw.nationalarchives.gov.uk/id/ewc...  \n",
       "\n",
       "[6050 rows x 11 columns]"
      ]
     },
     "execution_count": 28,
     "metadata": {},
     "output_type": "execute_result"
    }
   ],
   "source": [
    "# Remove the specified columns: date, caseNumbers, citation_references, legislation, appeal_type, appeal_outcome.\n",
    "# Rename the publicationDate column to Date.\n",
    "# Remove rows where excerpt or judges columns have null values.\n",
    "\n",
    "columns_to_drop = ['date', 'caseNumbers', 'citation_references', 'legislation', 'appeal_type', 'appeal_outcome']\n",
    "df_cleaned = dataset_pd.drop(columns=columns_to_drop)\n",
    "\n",
    "# 2. Rename 'publicationDate' to 'Date'\n",
    "df_cleaned.rename(columns={'publicationDate': 'date'}, inplace=True)\n",
    "\n",
    "# 3. Remove rows where 'excerpt' or 'judges' columns have null values\n",
    "df_final = df_cleaned.dropna(subset=['excerpt', 'judges'])\n",
    "\n",
    "df_final"
   ]
  },
  {
   "cell_type": "code",
   "execution_count": 29,
   "id": "9e7a21bf-10f0-433f-ae8c-4e372ed6c7e3",
   "metadata": {},
   "outputs": [
    {
     "name": "stdout",
     "output_type": "stream",
     "text": [
      "_id          0\n",
      "citation     0\n",
      "signature    0\n",
      "date         0\n",
      "type         0\n",
      "excerpt      0\n",
      "content      0\n",
      "judges       0\n",
      "file_name    0\n",
      "xml_uri      0\n",
      "uri          0\n",
      "dtype: int64\n"
     ]
    }
   ],
   "source": [
    "null_values = df_final.isnull().sum()\n",
    "print(null_values)"
   ]
  },
  {
   "cell_type": "code",
   "execution_count": 31,
   "id": "e1295415-7b38-4e0a-a849-7dc5755fccd6",
   "metadata": {},
   "outputs": [
    {
     "data": {
      "application/vnd.jupyter.widget-view+json": {
       "model_id": "537cc5a02df44d86af26378e0cedbf99",
       "version_major": 2,
       "version_minor": 0
      },
      "text/plain": [
       "Saving the dataset (0/1 shards):   0%|          | 0/6050 [00:00<?, ? examples/s]"
      ]
     },
     "metadata": {},
     "output_type": "display_data"
    }
   ],
   "source": [
    "dataset = Dataset.from_pandas(df_final)\n",
    "\n",
    "# Create a DatasetDict with the Dataset assigned to the 'train' split\n",
    "dataset_dict = DatasetDict({\"train\": dataset})\n",
    "\n",
    "# Save the dataset to disk\n",
    "dataset.save_to_disk(dataset_path)"
   ]
  },
  {
   "cell_type": "code",
   "execution_count": null,
   "id": "260a139a-de0f-4a8c-a15b-12adf462b0b8",
   "metadata": {},
   "outputs": [],
   "source": []
  },
  {
   "cell_type": "code",
   "execution_count": 32,
   "id": "385bfc32-6ae1-49f2-bed8-1b69ca2bae4d",
   "metadata": {},
   "outputs": [
    {
     "data": {
      "application/vnd.jupyter.widget-view+json": {
       "model_id": "839e6f322b9544598c38cbf0a83a4210",
       "version_major": 2,
       "version_minor": 0
      },
      "text/plain": [
       "VBox(children=(HTML(value='<center> <img\\nsrc=https://huggingface.co/front/assets/huggingface_logo-noborder.sv…"
      ]
     },
     "metadata": {},
     "output_type": "display_data"
    }
   ],
   "source": [
    "from huggingface_hub import login, HfApi, HfFolder\n",
    "import os\n",
    "login()\n"
   ]
  },
  {
   "cell_type": "code",
   "execution_count": 33,
   "id": "f680787f-0544-4f80-9e24-1aeeb2ff1cf0",
   "metadata": {},
   "outputs": [
    {
     "data": {
      "application/vnd.jupyter.widget-view+json": {
       "model_id": "4e649e021b424a95a8d013224302c539",
       "version_major": 2,
       "version_minor": 0
      },
      "text/plain": [
       "Uploading the dataset shards:   0%|          | 0/1 [00:00<?, ?it/s]"
      ]
     },
     "metadata": {},
     "output_type": "display_data"
    },
    {
     "data": {
      "application/vnd.jupyter.widget-view+json": {
       "model_id": "d4598d771573468185b2b0a563959e99",
       "version_major": 2,
       "version_minor": 0
      },
      "text/plain": [
       "Creating parquet from Arrow format:   0%|          | 0/7 [00:00<?, ?ba/s]"
      ]
     },
     "metadata": {},
     "output_type": "display_data"
    },
    {
     "data": {
      "application/vnd.jupyter.widget-view+json": {
       "model_id": "f18bd6ec311c48b78a59125b65db44a6",
       "version_major": 2,
       "version_minor": 0
      },
      "text/plain": [
       "README.md:   0%|          | 0.00/9.44k [00:00<?, ?B/s]"
      ]
     },
     "metadata": {},
     "output_type": "display_data"
    },
    {
     "data": {
      "text/plain": [
       "CommitInfo(commit_url='https://huggingface.co/datasets/JuDDGES/en-court-raw/commit/0b42ca56c5c0176e79ea1db950bd8cccdd56837b', commit_message='Upload dataset', commit_description='', oid='0b42ca56c5c0176e79ea1db950bd8cccdd56837b', pr_url=None, pr_revision=None, pr_num=None)"
      ]
     },
     "execution_count": 33,
     "metadata": {},
     "output_type": "execute_result"
    }
   ],
   "source": [
    "# Push the dataset to the Hugging Face Hub\n",
    "dataset.push_to_hub(\"JuDDGES/en-court-raw\")"
   ]
  },
  {
   "cell_type": "code",
   "execution_count": 15,
   "id": "c1f37c21-de73-48ee-8cc3-8f4f2d4ce735",
   "metadata": {},
   "outputs": [],
   "source": [
    "# Load the dataset from disk\n",
    "ds = load_from_disk(dataset_path)"
   ]
  },
  {
   "cell_type": "code",
   "execution_count": 16,
   "id": "c49a038b-3bd5-4124-89c2-a019c364fd22",
   "metadata": {},
   "outputs": [
    {
     "data": {
      "application/vnd.jupyter.widget-view+json": {
       "model_id": "70eab84a993a4630b1b8b6e0aa9ea26d",
       "version_major": 2,
       "version_minor": 0
      },
      "text/plain": [
       "Map (num_proc=8):   0%|          | 0/6050 [00:00<?, ? examples/s]"
      ]
     },
     "metadata": {},
     "output_type": "display_data"
    },
    {
     "data": {
      "text/plain": [
       "0"
      ]
     },
     "execution_count": 16,
     "metadata": {},
     "output_type": "execute_result"
    }
   ],
   "source": [
    "# | eval: false\n",
    "def tagger(item):\n",
    "    text = item[\"content\"]\n",
    "    dummy_tokens = text.split()\n",
    "\n",
    "    item[\"chars\"] = len(text)\n",
    "    item[\"num_dummy_tokens\"] = len(dummy_tokens)\n",
    "    item[\"num_non_ws_tokens\"] = sum(\n",
    "        1 for tok in dummy_tokens if any(char not in string.punctuation for char in tok.strip())\n",
    "    )\n",
    "\n",
    "    return item\n",
    "\n",
    "\n",
    "ds = ds.map(tagger, num_proc=8)\n",
    "ds.cleanup_cache_files()"
   ]
  },
  {
   "cell_type": "code",
   "execution_count": 19,
   "id": "4314d158-2396-4a1c-9538-456be68c3441",
   "metadata": {},
   "outputs": [
    {
     "data": {
      "text/html": [
       "<div>\n",
       "<style scoped>\n",
       "    .dataframe tbody tr th:only-of-type {\n",
       "        vertical-align: middle;\n",
       "    }\n",
       "\n",
       "    .dataframe tbody tr th {\n",
       "        vertical-align: top;\n",
       "    }\n",
       "\n",
       "    .dataframe thead th {\n",
       "        text-align: right;\n",
       "    }\n",
       "</style>\n",
       "<table border=\"1\" class=\"dataframe\">\n",
       "  <thead>\n",
       "    <tr style=\"text-align: right;\">\n",
       "      <th></th>\n",
       "      <th>_id</th>\n",
       "      <th>type</th>\n",
       "      <th>chars</th>\n",
       "      <th>num_dummy_tokens</th>\n",
       "      <th>num_non_ws_tokens</th>\n",
       "    </tr>\n",
       "  </thead>\n",
       "  <tbody>\n",
       "    <tr>\n",
       "      <th>0</th>\n",
       "      <td>ab0224364e4cf6562c82f8861d5268d4fa22b2ec45e0f7...</td>\n",
       "      <td>crown_court</td>\n",
       "      <td>12444</td>\n",
       "      <td>2229</td>\n",
       "      <td>2155</td>\n",
       "    </tr>\n",
       "    <tr>\n",
       "      <th>1</th>\n",
       "      <td>d4630d93258ea51ecff4bc4015443b4eecf8d9b2e5b7c5...</td>\n",
       "      <td>supreme_court</td>\n",
       "      <td>20977</td>\n",
       "      <td>3681</td>\n",
       "      <td>3586</td>\n",
       "    </tr>\n",
       "    <tr>\n",
       "      <th>2</th>\n",
       "      <td>37183a714b626cfe98081ac0250c804f992f340281f6d2...</td>\n",
       "      <td>crown_court</td>\n",
       "      <td>40570</td>\n",
       "      <td>7199</td>\n",
       "      <td>7097</td>\n",
       "    </tr>\n",
       "    <tr>\n",
       "      <th>3</th>\n",
       "      <td>b41933b19505ab8767ce30faf8db9524f737ec5ac2c17e...</td>\n",
       "      <td>crown_court</td>\n",
       "      <td>19459</td>\n",
       "      <td>3515</td>\n",
       "      <td>3432</td>\n",
       "    </tr>\n",
       "    <tr>\n",
       "      <th>4</th>\n",
       "      <td>418382a2a6c0c32d3d2bd4cb7b39e1ba259dc6bf56a78e...</td>\n",
       "      <td>crown_court</td>\n",
       "      <td>10352</td>\n",
       "      <td>1879</td>\n",
       "      <td>1793</td>\n",
       "    </tr>\n",
       "  </tbody>\n",
       "</table>\n",
       "</div>"
      ],
      "text/plain": [
       "                                                 _id           type  chars  \\\n",
       "0  ab0224364e4cf6562c82f8861d5268d4fa22b2ec45e0f7...    crown_court  12444   \n",
       "1  d4630d93258ea51ecff4bc4015443b4eecf8d9b2e5b7c5...  supreme_court  20977   \n",
       "2  37183a714b626cfe98081ac0250c804f992f340281f6d2...    crown_court  40570   \n",
       "3  b41933b19505ab8767ce30faf8db9524f737ec5ac2c17e...    crown_court  19459   \n",
       "4  418382a2a6c0c32d3d2bd4cb7b39e1ba259dc6bf56a78e...    crown_court  10352   \n",
       "\n",
       "   num_dummy_tokens  num_non_ws_tokens  \n",
       "0              2229               2155  \n",
       "1              3681               3586  \n",
       "2              7199               7097  \n",
       "3              3515               3432  \n",
       "4              1879               1793  "
      ]
     },
     "execution_count": 19,
     "metadata": {},
     "output_type": "execute_result"
    }
   ],
   "source": [
    "# | eval: false\n",
    "stats = (\n",
    "    ds.select_columns([\"_id\", \"type\", \"chars\", \"num_dummy_tokens\", \"num_non_ws_tokens\"]) #\"appeal_type\", \"appeal_outcome\"\n",
    "    .to_pandas()\n",
    "    .convert_dtypes(dtype_backend=\"pyarrow\")\n",
    ")\n",
    "stats[\"type\"] = stats[\"type\"].astype(\"category\")\n",
    "stats.head()"
   ]
  },
  {
   "cell_type": "code",
   "execution_count": 20,
   "id": "c6bb139f-4340-45b4-a277-43da9d31a8f7",
   "metadata": {},
   "outputs": [
    {
     "data": {
      "image/png": "[encoded data removed]",
      "text/plain": [
       "<Figure size 640x480 with 1 Axes>"
      ]
     },
     "metadata": {},
     "output_type": "display_data"
    }
   ],
   "source": [
    "# | eval: false\n",
    "ax = sns.histplot(\n",
    "    x=stats[\"num_non_ws_tokens\"],\n",
    "    log_scale=True,\n",
    "    bins=50,\n",
    ")\n",
    "ax.set(title=\"#tokens distribution\")\n",
    "\n",
    "# Save the plot as a PNG file in the 'images' folder\n",
    "plt.savefig('images/tokens_distribution.png', format='png', dpi=300, bbox_inches='tight')\n",
    "\n",
    "plt.show()"
   ]
  },
  {
   "cell_type": "code",
   "execution_count": 21,
   "id": "e2d55b29-5e3a-4b80-827f-9a12e9ff4b97",
   "metadata": {},
   "outputs": [
    {
     "data": {
      "image/png": "[encoded data removed]",
      "text/plain": [
       "<Figure size 640x480 with 1 Axes>"
      ]
     },
     "metadata": {},
     "output_type": "display_data"
    }
   ],
   "source": [
    "# | eval: false\n",
    "court_type_card_order = stats[\"type\"].value_counts().index.tolist()\n",
    "court_type_data = stats[\"type\"].value_counts().plot.barh(logx=True, title=\"Types cardinality\")\n",
    "\n",
    "# Save the plot as a PNG file in the 'images' folder\n",
    "plt.savefig('images/cardinality.png', format='png', dpi=300, bbox_inches='tight')\n",
    "\n",
    "plt.show()"
   ]
  },
  {
   "cell_type": "code",
   "execution_count": 22,
   "id": "e1051c95-4339-4a5e-bb1a-559ea811c5ec",
   "metadata": {},
   "outputs": [],
   "source": [
    "# # | eval: false\n",
    "# appeal_type_card_order = stats[\"appeal_type\"].value_counts().index.tolist()\n",
    "# appeal_type_data = stats[\"appeal_type\"].value_counts().plot.barh(logx=True, title=\"Types cardinality\")\n",
    "\n",
    "# # Save the plot as a PNG file in the 'images' folder\n",
    "# plt.savefig('images/cardinality_sc.png', format='png', dpi=300, bbox_inches='tight')\n",
    "\n",
    "# plt.show()"
   ]
  },
  {
   "cell_type": "code",
   "execution_count": 23,
   "id": "c4a68318-5880-4d5f-9690-80235ed0bfe4",
   "metadata": {},
   "outputs": [],
   "source": [
    "# # | eval: false\n",
    "# appeal_outcome_card_order = stats[\"appeal_outcome\"].value_counts().index.tolist()\n",
    "# appeal_outcome_data = stats[\"appeal_outcome\"].value_counts().plot.barh(logx=True, title=\"Types cardinality\")\n",
    "\n",
    "# # Save the plot as a PNG file in the 'images' folder\n",
    "# plt.savefig('images/cardinality_appeal.png', format='png', dpi=300, bbox_inches='tight')\n",
    "\n",
    "# plt.show()"
   ]
  },
  {
   "cell_type": "code",
   "execution_count": 24,
   "id": "ef0ec395-bd03-47bf-84b2-7adf338595f3",
   "metadata": {},
   "outputs": [
    {
     "data": {
      "image/png": "[encoded data removed]",
      "text/plain": [
       "<Figure size 800x1200 with 1 Axes>"
      ]
     },
     "metadata": {},
     "output_type": "display_data"
    }
   ],
   "source": [
    "# | eval: false\n",
    "# sns.displot(data=stats, x=\"num_non_ws_tokens\", col=\"type\", col_wrap=3, log_scale=(True, False), facet_kws=dict(sharey=False, sharex=False), kind=\"hist\", bins=25)\n",
    "\n",
    "_, ax = plt.subplots(figsize=(8, 12))\n",
    "ax.set(title=\"Per type text length ditribution\")\n",
    "sns.boxenplot(data=stats, y=\"type\", x=\"num_non_ws_tokens\", order=court_type_card_order, log_scale=True)\n",
    "\n",
    "# Save the plot as a PNG file in the 'images' folder\n",
    "plt.savefig('images/tok_distribution.png', format='png', dpi=300, bbox_inches='tight')\n",
    "\n",
    "plt.show()"
   ]
  },
  {
   "cell_type": "code",
   "execution_count": 26,
   "id": "06f8c2b2-8f87-4876-b58c-a164c3412c31",
   "metadata": {},
   "outputs": [],
   "source": [
    "# # | eval: false\n",
    "# # sns.displot(data=stats, x=\"num_non_ws_tokens\", col=\"type\", col_wrap=3, log_scale=(True, False), facet_kws=dict(sharey=False, sharex=False), kind=\"hist\", bins=25)\n",
    "\n",
    "# _, ax = plt.subplots(figsize=(8, 12))\n",
    "# ax.set(title=\"Per type text length ditribution\")\n",
    "# sns.boxenplot(data=stats, y=\"appeal_type\", x=\"num_non_ws_tokens\", order=appeal_type_card_order, log_scale=True)"
   ]
  },
  {
   "cell_type": "code",
   "execution_count": 27,
   "id": "1de5e68f-8ae4-4a67-bdd1-c84146d2475e",
   "metadata": {},
   "outputs": [],
   "source": [
    "# # | eval: false\n",
    "# # sns.displot(data=stats, x=\"num_non_ws_tokens\", col=\"type\", col_wrap=3, log_scale=(True, False), facet_kws=dict(sharey=False, sharex=False), kind=\"hist\", bins=25)\n",
    "\n",
    "# _, ax = plt.subplots(figsize=(8, 12))\n",
    "# ax.set(title=\"Per type text length ditribution\")\n",
    "# sns.boxenplot(data=stats, y=\"appeal_outcome\", x=\"num_non_ws_tokens\", order=appeal_outcome_card_order, log_scale=True)\n",
    "\n",
    "# # Save the plot as a PNG file in the 'images' folder\n",
    "# plt.savefig('images/tok_distribution_appeal.png', format='png', dpi=300, bbox_inches='tight')\n",
    "\n",
    "# plt.show()"
   ]
  },
  {
   "cell_type": "markdown",
   "id": "ea06ef3f-c12d-4da6-9fc6-45f1809dabad",
   "metadata": {},
   "source": [
    "# Tokenize\n"
   ]
  },
  {
   "cell_type": "code",
   "execution_count": 32,
   "id": "08c70fdc-0b03-4983-8da9-8d065161d3e7",
   "metadata": {},
   "outputs": [
    {
     "name": "stderr",
     "output_type": "stream",
     "text": [
      "None of PyTorch, TensorFlow >= 2.0, or Flax have been found. Models won't be available and only tokenizers, configuration and file/data utilities can be used.\n"
     ]
    }
   ],
   "source": [
    "# | eval: false\n",
    "from transformers import AutoTokenizer"
   ]
  },
  {
   "cell_type": "code",
   "execution_count": 33,
   "id": "0af8c3ba-aa89-4e1a-bfcb-65b618c4559e",
   "metadata": {},
   "outputs": [
    {
     "data": {
      "application/vnd.jupyter.widget-view+json": {
       "model_id": "9f849bfbaab840c7883c4e321f589d87",
       "version_major": 2,
       "version_minor": 0
      },
      "text/plain": [
       "tokenizer_config.json:   0%|          | 0.00/418 [00:00<?, ?B/s]"
      ]
     },
     "metadata": {},
     "output_type": "display_data"
    },
    {
     "data": {
      "application/vnd.jupyter.widget-view+json": {
       "model_id": "5297a78772234c64b5cd8cd2d0487652",
       "version_major": 2,
       "version_minor": 0
      },
      "text/plain": [
       "sentencepiece.bpe.model:   0%|          | 0.00/5.07M [00:00<?, ?B/s]"
      ]
     },
     "metadata": {},
     "output_type": "display_data"
    },
    {
     "data": {
      "application/vnd.jupyter.widget-view+json": {
       "model_id": "21d0b02b129f4ff7ae3f5456b37b88ba",
       "version_major": 2,
       "version_minor": 0
      },
      "text/plain": [
       "tokenizer.json:   0%|          | 0.00/17.1M [00:00<?, ?B/s]"
      ]
     },
     "metadata": {},
     "output_type": "display_data"
    },
    {
     "data": {
      "application/vnd.jupyter.widget-view+json": {
       "model_id": "10995797e0d3480a9878ddd487467276",
       "version_major": 2,
       "version_minor": 0
      },
      "text/plain": [
       "special_tokens_map.json:   0%|          | 0.00/280 [00:00<?, ?B/s]"
      ]
     },
     "metadata": {},
     "output_type": "display_data"
    },
    {
     "data": {
      "application/vnd.jupyter.widget-view+json": {
       "model_id": "c9bec5acc69949b088e7432531210249",
       "version_major": 2,
       "version_minor": 0
      },
      "text/plain": [
       "Map (num_proc=44):   0%|          | 0/6154 [00:00<?, ? examples/s]"
      ]
     },
     "metadata": {},
     "output_type": "display_data"
    },
    {
     "name": "stderr",
     "output_type": "stream",
     "text": [
      "Token indices sequence length is longer than the specified maximum sequence length for this model (1625 > 512). Running this sequence through the model will result in indexing errors\n",
      "Token indices sequence length is longer than the specified maximum sequence length for this model (7729 > 512). Running this sequence through the model will result in indexing errors\n",
      "Token indices sequence length is longer than the specified maximum sequence length for this model (4093 > 512). Running this sequence through the model will result in indexing errors\n",
      "Token indices sequence length is longer than the specified maximum sequence length for this model (968 > 512). Running this sequence through the model will result in indexing errors\n",
      "Token indices sequence length is longer than the specified maximum sequence length for this model (2180 > 512). Running this sequence through the model will result in indexing errors\n",
      "Token indices sequence length is longer than the specified maximum sequence length for this model (1937 > 512). Running this sequence through the model will result in indexing errors\n",
      "Token indices sequence length is longer than the specified maximum sequence length for this model (2857 > 512). Running this sequence through the model will result in indexing errors\n",
      "Token indices sequence length is longer than the specified maximum sequence length for this model (8490 > 512). Running this sequence through the model will result in indexing errors\n",
      "Token indices sequence length is longer than the specified maximum sequence length for this model (17735 > 512). Running this sequence through the model will result in indexing errors\n",
      "Token indices sequence length is longer than the specified maximum sequence length for this model (22812 > 512). Running this sequence through the model will result in indexing errors\n",
      "Token indices sequence length is longer than the specified maximum sequence length for this model (3021 > 512). Running this sequence through the model will result in indexing errors\n",
      "Token indices sequence length is longer than the specified maximum sequence length for this model (2964 > 512). Running this sequence through the model will result in indexing errors\n",
      "Token indices sequence length is longer than the specified maximum sequence length for this model (1604 > 512). Running this sequence through the model will result in indexing errors\n",
      "Token indices sequence length is longer than the specified maximum sequence length for this model (2726 > 512). Running this sequence through the model will result in indexing errors\n",
      "Token indices sequence length is longer than the specified maximum sequence length for this model (3342 > 512). Running this sequence through the model will result in indexing errors\n",
      "Token indices sequence length is longer than the specified maximum sequence length for this model (3668 > 512). Running this sequence through the model will result in indexing errors\n",
      "Token indices sequence length is longer than the specified maximum sequence length for this model (4760 > 512). Running this sequence through the model will result in indexing errors\n",
      "Token indices sequence length is longer than the specified maximum sequence length for this model (14217 > 512). Running this sequence through the model will result in indexing errors\n",
      "Token indices sequence length is longer than the specified maximum sequence length for this model (1346 > 512). Running this sequence through the model will result in indexing errors\n",
      "Token indices sequence length is longer than the specified maximum sequence length for this model (5781 > 512). Running this sequence through the model will result in indexing errors\n",
      "Token indices sequence length is longer than the specified maximum sequence length for this model (12451 > 512). Running this sequence through the model will result in indexing errors\n",
      "Token indices sequence length is longer than the specified maximum sequence length for this model (11813 > 512). Running this sequence through the model will result in indexing errors\n",
      "Token indices sequence length is longer than the specified maximum sequence length for this model (6959 > 512). Running this sequence through the model will result in indexing errors\n",
      "Token indices sequence length is longer than the specified maximum sequence length for this model (2493 > 512). Running this sequence through the model will result in indexing errors\n",
      "Token indices sequence length is longer than the specified maximum sequence length for this model (3168 > 512). Running this sequence through the model will result in indexing errors\n",
      "Token indices sequence length is longer than the specified maximum sequence length for this model (12022 > 512). Running this sequence through the model will result in indexing errors\n",
      "Token indices sequence length is longer than the specified maximum sequence length for this model (3316 > 512). Running this sequence through the model will result in indexing errors\n",
      "Token indices sequence length is longer than the specified maximum sequence length for this model (6039 > 512). Running this sequence through the model will result in indexing errors\n",
      "Token indices sequence length is longer than the specified maximum sequence length for this model (5440 > 512). Running this sequence through the model will result in indexing errors\n",
      "Token indices sequence length is longer than the specified maximum sequence length for this model (14833 > 512). Running this sequence through the model will result in indexing errors\n",
      "Token indices sequence length is longer than the specified maximum sequence length for this model (3606 > 512). Running this sequence through the model will result in indexing errors\n",
      "Token indices sequence length is longer than the specified maximum sequence length for this model (4197 > 512). Running this sequence through the model will result in indexing errors\n",
      "Token indices sequence length is longer than the specified maximum sequence length for this model (3538 > 512). Running this sequence through the model will result in indexing errors\n",
      "Token indices sequence length is longer than the specified maximum sequence length for this model (4618 > 512). Running this sequence through the model will result in indexing errors\n",
      "Token indices sequence length is longer than the specified maximum sequence length for this model (3974 > 512). Running this sequence through the model will result in indexing errors\n",
      "Token indices sequence length is longer than the specified maximum sequence length for this model (14842 > 512). Running this sequence through the model will result in indexing errors\n",
      "Token indices sequence length is longer than the specified maximum sequence length for this model (3610 > 512). Running this sequence through the model will result in indexing errors\n",
      "Token indices sequence length is longer than the specified maximum sequence length for this model (6583 > 512). Running this sequence through the model will result in indexing errors\n",
      "Token indices sequence length is longer than the specified maximum sequence length for this model (2124 > 512). Running this sequence through the model will result in indexing errors\n",
      "Token indices sequence length is longer than the specified maximum sequence length for this model (9074 > 512). Running this sequence through the model will result in indexing errors\n",
      "Token indices sequence length is longer than the specified maximum sequence length for this model (11635 > 512). Running this sequence through the model will result in indexing errors\n",
      "Token indices sequence length is longer than the specified maximum sequence length for this model (7935 > 512). Running this sequence through the model will result in indexing errors\n",
      "Token indices sequence length is longer than the specified maximum sequence length for this model (4170 > 512). Running this sequence through the model will result in indexing errors\n",
      "Token indices sequence length is longer than the specified maximum sequence length for this model (3503 > 512). Running this sequence through the model will result in indexing errors\n"
     ]
    }
   ],
   "source": [
    "# | eval: false\n",
    "tokenizer = AutoTokenizer.from_pretrained(\"intfloat/multilingual-e5-large\")\n",
    "ds = ds.map(\n",
    "    lambda examples: tokenizer(examples[\"content\"], padding=False, truncation=False),\n",
    "    batched=True,\n",
    "    num_proc=44,\n",
    ")"
   ]
  },
  {
   "cell_type": "code",
   "execution_count": 34,
   "id": "6f822fae-f91c-4ee1-a114-97a021bf1e81",
   "metadata": {},
   "outputs": [],
   "source": [
    "# | eval: false\n",
    "tokenized = []\n",
    "for item in ds:\n",
    "    tokenized.append({\"num_tokens\": len(item[\"input_ids\"])})"
   ]
  },
  {
   "cell_type": "code",
   "execution_count": 48,
   "id": "3c059b5a-5c25-4381-aad7-d69ef0b90320",
   "metadata": {},
   "outputs": [],
   "source": [
    "num_tokens = [item['num_tokens'] for item in tokenized]\n",
    "filtered_tokens = [token for token in num_tokens if token <= 40000]"
   ]
  },
  {
   "cell_type": "code",
   "execution_count": 49,
   "id": "cdac696f-056a-4b12-a48e-ac8f8dac9eeb",
   "metadata": {},
   "outputs": [
    {
     "data": {
      "text/plain": [
       "<Axes: ylabel='Count'>"
      ]
     },
     "execution_count": 49,
     "metadata": {},
     "output_type": "execute_result"
    },
    {
     "data": {
      "image/png": "[encoded data removed]",
      "text/plain": [
       "<Figure size 640x480 with 1 Axes>"
      ]
     },
     "metadata": {},
     "output_type": "display_data"
    }
   ],
   "source": [
    "# | eval: false\n",
    "sns.histplot(filtered_tokens, bins=100)"
   ]
  },
  {
   "cell_type": "code",
   "execution_count": 50,
   "id": "c890ee73",
   "metadata": {},
   "outputs": [
    {
     "data": {
      "image/png": "[encoded data removed]",
      "text/plain": [
       "<Figure size 600x600 with 1 Axes>"
      ]
     },
     "metadata": {},
     "output_type": "display_data"
    }
   ],
   "source": [
    "# Plot the box plot\n",
    "plt.figure(figsize=(6, 6))\n",
    "sns.boxplot(filtered_tokens)\n",
    "plt.show()"
   ]
  },
  {
   "cell_type": "code",
   "execution_count": null,
   "id": "08572d7e-8b02-4b5b-a078-24d88beb1378",
   "metadata": {},
   "outputs": [],
   "source": []
  }
 ],
 "metadata": {
  "kernelspec": {
   "display_name": "Python (ml4legal)",
   "language": "python",
   "name": "myenv"
  },
  "language_info": {
   "codemirror_mode": {
    "name": "ipython",
    "version": 3
   },
   "file_extension": ".py",
   "mimetype": "text/x-python",
   "name": "python",
   "nbconvert_exporter": "python",
   "pygments_lexer": "ipython3",
   "version": "3.10.9"
  }
 },
 "nbformat": 4,
 "nbformat_minor": 5
}
